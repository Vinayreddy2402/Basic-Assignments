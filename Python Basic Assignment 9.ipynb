{
 "cells": [
  {
   "cell_type": "code",
   "execution_count": null,
   "id": "2e5c99ff-ae7c-4a13-9f27-9ce329f12d23",
   "metadata": {},
   "outputs": [],
   "source": [
    "To what does a relative path refer?"
   ]
  },
  {
   "cell_type": "markdown",
   "id": "349ed605-6225-4713-b766-56bd3d0e73c3",
   "metadata": {},
   "source": [
    "A relative path in Python is a path that describes the location of a directory relative to the entry point where you run the Python script.\n"
   ]
  },
  {
   "cell_type": "code",
   "execution_count": null,
   "id": "41e8042c-ce91-482e-9bbe-c3b5c5265b6f",
   "metadata": {},
   "outputs": [],
   "source": [
    "What does an absolute path start with your operating system?"
   ]
  },
  {
   "cell_type": "markdown",
   "id": "abdb8823-fa1c-4f27-96ee-79830ca36883",
   "metadata": {},
   "source": [
    "An absolute path makes no assumptions about your current location in relation to the location of the file or directory it's describing. An absolute path always begins from the absolute start of your hard drive and describes every step you must take through the filesystem to end up at the target location."
   ]
  },
  {
   "cell_type": "code",
   "execution_count": null,
   "id": "8987b158-a1cf-4de5-8329-c90faad0ba61",
   "metadata": {},
   "outputs": [],
   "source": [
    "What do the functions os.getcwd() and os.chdir() do?"
   ]
  },
  {
   "cell_type": "markdown",
   "id": "b8159026-8fa4-497b-b72b-a85c321f9f9f",
   "metadata": {},
   "source": [
    "os.chdir() method in Python used to change the current working directory to specified path. It takes only a single argument as new directory path.\n",
    "getcwd() method can be used to know the current working directory of the file. After changing the path, one can verify the path of current working directory using this method. "
   ]
  },
  {
   "cell_type": "code",
   "execution_count": null,
   "id": "bf368376-2cef-4618-9222-a82f89789fcb",
   "metadata": {},
   "outputs": [],
   "source": [
    "What are the . and .. folders?"
   ]
  },
  {
   "cell_type": "markdown",
   "id": "5d67363f-7468-4223-9d02-002144447454",
   "metadata": {},
   "source": [
    "The . is the current directory, while .. signifies the parent directory. It makes things quicker at the command line as well so you don't need to type out full paths.\n",
    "ex: cd ..\\..\\..\\ #to go up 3 directories\n",
    "ex: .\\program #open program in current directory\n"
   ]
  },
  {
   "cell_type": "markdown",
   "id": "ba5eb128-82c0-4dd6-ac9e-347db67a68f4",
   "metadata": {},
   "source": [
    "In C:\\bacon\\eggs\\spam.txt, which part is the dir name, and which part is the base name?"
   ]
  },
  {
   "cell_type": "markdown",
   "id": "a6a3a2cf-7093-4626-9c45-f8ab9aad138f",
   "metadata": {},
   "source": [
    "In C:\\bacon\\eggs\\spam.txt, C:\\bacon\\eggs is the dir name and spam.txt is the base name"
   ]
  },
  {
   "cell_type": "code",
   "execution_count": null,
   "id": "21d880ca-9385-44d1-923f-3cc6794632a5",
   "metadata": {},
   "outputs": [],
   "source": [
    "What are the three “mode” arguments that can be passed to the open() function?"
   ]
  },
  {
   "cell_type": "markdown",
   "id": "0b134156-f4ba-4eb2-ab25-1730032c7b4c",
   "metadata": {},
   "source": [
    "The 3 mode arguments that can be passed to the open() finction are \n",
    "'r': open the file in read mode\n",
    "'w': open the file in write mode\n",
    "'x':Open a file for exclusibe creation. if file alrady exists the operation fails\n"
   ]
  },
  {
   "cell_type": "code",
   "execution_count": null,
   "id": "374c6288-2ee1-4272-8fe5-e263a7140690",
   "metadata": {},
   "outputs": [],
   "source": [
    "What happens if an existing file is opened in write mode?"
   ]
  },
  {
   "cell_type": "markdown",
   "id": "80f06704-8681-4128-820b-a7a5ef25f2d7",
   "metadata": {},
   "source": [
    "If the file to be opened exists in the current directory and is open using 'w' / 'w+', the contents will be deleted before writing."
   ]
  },
  {
   "cell_type": "code",
   "execution_count": null,
   "id": "b38ed046-1ced-412e-b867-6658bc7fed36",
   "metadata": {},
   "outputs": [],
   "source": [
    "How do you tell the difference between read() and readlines()?"
   ]
  },
  {
   "cell_type": "markdown",
   "id": "eb8caf91-9de1-49a1-926b-b78fdcb7ed2f",
   "metadata": {},
   "source": [
    "The read() will read the whole file at once and then print out the first characters that take up as many bytes as we specify in the parenthesis.\n",
    "The readline() that will read and print out only the first characters that take up as many bytes as you specify in the parenthesis.\n"
   ]
  },
  {
   "cell_type": "code",
   "execution_count": null,
   "id": "62633d7b-e109-4db8-976a-4006d67e49fc",
   "metadata": {},
   "outputs": [],
   "source": [
    "What data structure does a shelf value resemble?"
   ]
  },
  {
   "cell_type": "markdown",
   "id": "60af2792-94f9-42c9-a652-5a980d8a2757",
   "metadata": {},
   "source": [
    "A shelf value resembles a dictionary value; it has keys and values, along with keys() and values() methods that work similarly to the dictionary methods of the same names."
   ]
  },
  {
   "cell_type": "code",
   "execution_count": null,
   "id": "dc777e7b-5cc6-4ddb-bf27-23e0a3244301",
   "metadata": {},
   "outputs": [],
   "source": []
  }
 ],
 "metadata": {
  "kernelspec": {
   "display_name": "Python 3 (ipykernel)",
   "language": "python",
   "name": "python3"
  },
  "language_info": {
   "codemirror_mode": {
    "name": "ipython",
    "version": 3
   },
   "file_extension": ".py",
   "mimetype": "text/x-python",
   "name": "python",
   "nbconvert_exporter": "python",
   "pygments_lexer": "ipython3",
   "version": "3.10.6"
  }
 },
 "nbformat": 4,
 "nbformat_minor": 5
}
