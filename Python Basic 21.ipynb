{
 "cells": [
  {
   "cell_type": "markdown",
   "metadata": {
    "id": "6Nw9DRc2Hern"
   },
   "source": [
    "#Python Basic 21"
   ]
  },
  {
   "cell_type": "markdown",
   "metadata": {
    "id": "X7D5mbcXHi5l"
   },
   "source": [
    ">  Q. Add the current date to the text file today.txt as a string."
   ]
  },
  {
   "cell_type": "code",
   "execution_count": 1,
   "metadata": {
    "colab": {
     "base_uri": "https://localhost:8080/",
     "height": 35
    },
    "executionInfo": {
     "elapsed": 399,
     "status": "ok",
     "timestamp": 1627041464886,
     "user": {
      "displayName": "Yuno Clover",
      "photoUrl": "",
      "userId": "14793961318254159012"
     },
     "user_tz": -330
    },
    "id": "U166OAE1HbK8",
    "outputId": "13412dea-c990-4619-934e-624109f9f81a"
   },
   "outputs": [
    {
     "data": {
      "text/plain": [
       "'2023-05-03'"
      ]
     },
     "execution_count": 1,
     "metadata": {},
     "output_type": "execute_result"
    }
   ],
   "source": [
    "import datetime\n",
    "from datetime import date\n",
    "now = date.today()\n",
    "cur_date = now.isoformat()\n",
    "cur_date"
   ]
  },
  {
   "cell_type": "code",
   "execution_count": 2,
   "metadata": {
    "executionInfo": {
     "elapsed": 400,
     "status": "ok",
     "timestamp": 1627041468934,
     "user": {
      "displayName": "Yuno Clover",
      "photoUrl": "",
      "userId": "14793961318254159012"
     },
     "user_tz": -330
    },
    "id": "rnhAo-QIHouq"
   },
   "outputs": [],
   "source": [
    "with open('today.txt','w') as file:\n",
    "    file.write(cur_date)"
   ]
  },
  {
   "cell_type": "markdown",
   "metadata": {
    "id": "uj1iKwb0Ic_2"
   },
   "source": [
    "> Q. Read the text file today.txt into the string today_string"
   ]
  },
  {
   "cell_type": "code",
   "execution_count": 3,
   "metadata": {
    "colab": {
     "base_uri": "https://localhost:8080/",
     "height": 35
    },
    "executionInfo": {
     "elapsed": 13,
     "status": "ok",
     "timestamp": 1627041470753,
     "user": {
      "displayName": "Yuno Clover",
      "photoUrl": "",
      "userId": "14793961318254159012"
     },
     "user_tz": -330
    },
    "id": "qXCd1k-gIYiF",
    "outputId": "37ff38dd-29b4-4ecf-94f6-83476eb2c182"
   },
   "outputs": [
    {
     "data": {
      "text/plain": [
       "'2023-05-03'"
      ]
     },
     "execution_count": 3,
     "metadata": {},
     "output_type": "execute_result"
    }
   ],
   "source": [
    "with open('today.txt','r') as file:\n",
    "    today_string = file.read()\n",
    "today_string"
   ]
  },
  {
   "cell_type": "markdown",
   "metadata": {
    "id": "LrIDHGFBIig7"
   },
   "source": [
    "> Q. Parse the date from today_string."
   ]
  },
  {
   "cell_type": "code",
   "execution_count": 4,
   "metadata": {
    "colab": {
     "base_uri": "https://localhost:8080/"
    },
    "executionInfo": {
     "elapsed": 392,
     "status": "ok",
     "timestamp": 1627041473603,
     "user": {
      "displayName": "Yuno Clover",
      "photoUrl": "",
      "userId": "14793961318254159012"
     },
     "user_tz": -330
    },
    "id": "MuwBYzZFIfw7",
    "outputId": "063aa12f-3062-4447-d4c9-82df2d4f6d60"
   },
   "outputs": [
    {
     "data": {
      "text/plain": [
       "datetime.datetime(2023, 5, 3, 0, 0)"
      ]
     },
     "execution_count": 4,
     "metadata": {},
     "output_type": "execute_result"
    }
   ],
   "source": [
    "from datetime import datetime\n",
    "format = '%Y-%m-%d'\n",
    "datetime.strptime(today_string,format)"
   ]
  },
  {
   "cell_type": "markdown",
   "metadata": {
    "id": "WxS5ql4HIns3"
   },
   "source": [
    "> Q. List the files in your current directory"
   ]
  },
  {
   "cell_type": "code",
   "execution_count": 5,
   "metadata": {
    "colab": {
     "base_uri": "https://localhost:8080/"
    },
    "executionInfo": {
     "elapsed": 412,
     "status": "ok",
     "timestamp": 1627041476634,
     "user": {
      "displayName": "Yuno Clover",
      "photoUrl": "",
      "userId": "14793961318254159012"
     },
     "user_tz": -330
    },
    "id": "CT1raJTeIk7J",
    "outputId": "4a592015-8e8e-4e72-f247-d5211b0a18ed"
   },
   "outputs": [
    {
     "data": {
      "text/plain": [
       "['Python Basic 23.ipynb',\n",
       " 'README.md',\n",
       " 'Python Basic Assignment 9.ipynb',\n",
       " 'Python Basic Assignment 3.ipynb',\n",
       " 'Python Basic Assignment 13.ipynb',\n",
       " 'Python BAsic 20.ipynb',\n",
       " 'zoo.py',\n",
       " 'Python Basic Assignment 11.ipynb',\n",
       " 'Python Basic 15.ipynb',\n",
       " '.git',\n",
       " 'Python Basic Prog 10.ipynb',\n",
       " 'Python Basic 16.ipynb',\n",
       " 'Python Basic 18.ipynb',\n",
       " 'abc.py',\n",
       " 'Python Basic 4.ipynb',\n",
       " 'Python Basic Assignment 12.ipynb',\n",
       " 'Python Basic Prog 8.ipynb',\n",
       " 'Python Basic 14.ipynb',\n",
       " 'Python Basics 6.ipynb',\n",
       " 'Python Basic 19.ipynb',\n",
       " 'Python Basic 24.ipynb',\n",
       " 'Python Basic Assignment 1.ipynb',\n",
       " '_PythonBasicProgramming 7.ipynb',\n",
       " 'Python Basics 5.ipynb',\n",
       " '.ipynb_checkpoints',\n",
       " 'Python Basic Assignment 7.ipynb',\n",
       " 'Python Basic 14-Copy1.ipynb',\n",
       " 'Python Basic 25.ipynb',\n",
       " 'today.txt',\n",
       " 'Python Basic Assignment 10.ipynb',\n",
       " 'Python Basic Prog 9.ipynb',\n",
       " 'Python Basic Assignment 8.ipynb',\n",
       " 'Python BAsic 17.ipynb',\n",
       " 'Python Basic 21.ipynb',\n",
       " 'Python Basic Assignment 2.ipynb',\n",
       " 'Python Basic 22.ipynb']"
      ]
     },
     "execution_count": 5,
     "metadata": {},
     "output_type": "execute_result"
    }
   ],
   "source": [
    "import os\n",
    "os.listdir('.')"
   ]
  },
  {
   "cell_type": "markdown",
   "metadata": {
    "id": "t_cu3DbGJ2e_"
   },
   "source": [
    "> Q.  Use multiprocessing to create three separate processes. Make each one wait a random number of seconds between one and five, print the current time, and then exit."
   ]
  },
  {
   "cell_type": "code",
   "execution_count": 6,
   "metadata": {
    "executionInfo": {
     "elapsed": 8,
     "status": "ok",
     "timestamp": 1627041478767,
     "user": {
      "displayName": "Yuno Clover",
      "photoUrl": "",
      "userId": "14793961318254159012"
     },
     "user_tz": -330
    },
    "id": "Gr2Lds7eJ8A7"
   },
   "outputs": [
    {
     "name": "stdout",
     "output_type": "stream",
     "text": [
      "wait 0.4701943602035218 seconds, time is 2023-05-03 05:08:19.791469\n",
      "wait 0.6908550758289391 seconds, time is 2023-05-03 05:08:20.008324\n",
      "wait 0.7637761297735648 seconds, time is 2023-05-03 05:08:20.088625\n"
     ]
    }
   ],
   "source": [
    "import multiprocessing\n",
    "\n",
    "def printsec(seconds):\n",
    "    from datetime import datetime\n",
    "    from time import sleep\n",
    "    sleep(seconds)\n",
    "    print('wait', seconds, 'seconds, time is', datetime.utcnow())\n",
    "    \n",
    "if __name__ == '__main__':\n",
    "    import random    \n",
    "    for n in range(3):\n",
    "        seconds = random.random()\n",
    "        proc = multiprocessing.Process(target=printsec, args=(seconds,))\n",
    "        proc.start()"
   ]
  },
  {
   "cell_type": "code",
   "execution_count": 7,
   "metadata": {
    "colab": {
     "base_uri": "https://localhost:8080/"
    },
    "executionInfo": {
     "elapsed": 1304,
     "status": "ok",
     "timestamp": 1627041481604,
     "user": {
      "displayName": "Yuno Clover",
      "photoUrl": "",
      "userId": "14793961318254159012"
     },
     "user_tz": -330
    },
    "id": "xH6iP_F5J-YN",
    "outputId": "a4004d40-121e-4d2a-e5a6-6b56a5e963e2"
   },
   "outputs": [
    {
     "name": "stdout",
     "output_type": "stream",
     "text": [
      "wait 0.19682828096221738 seconds, time is 2023-05-03 05:08:27.588277\n",
      "wait 0.28769424077185934 seconds, time is 2023-05-03 05:08:27.679681\n",
      "wait 0.5074553964537666 seconds, time is 2023-05-03 05:08:27.900840\n"
     ]
    }
   ],
   "source": [
    "!python abc.py"
   ]
  },
  {
   "cell_type": "markdown",
   "metadata": {
    "id": "3DQeVniENrtd"
   },
   "source": [
    "> Q. Create a date object of your day of birth"
   ]
  },
  {
   "cell_type": "code",
   "execution_count": 8,
   "metadata": {
    "colab": {
     "base_uri": "https://localhost:8080/"
    },
    "executionInfo": {
     "elapsed": 8,
     "status": "ok",
     "timestamp": 1627041484025,
     "user": {
      "displayName": "Yuno Clover",
      "photoUrl": "",
      "userId": "14793961318254159012"
     },
     "user_tz": -330
    },
    "id": "z4QUpLFOKG_v",
    "outputId": "4681c045-6350-41c5-f8aa-d864ecdb084f"
   },
   "outputs": [
    {
     "ename": "ValueError",
     "evalue": "month must be in 1..12",
     "output_type": "error",
     "traceback": [
      "\u001b[0;31m---------------------------------------------------------------------------\u001b[0m",
      "\u001b[0;31mValueError\u001b[0m                                Traceback (most recent call last)",
      "Cell \u001b[0;32mIn [8], line 1\u001b[0m\n\u001b[0;32m----> 1\u001b[0m my_dob \u001b[38;5;241m=\u001b[39m \u001b[43mdate\u001b[49m\u001b[43m(\u001b[49m\u001b[38;5;241;43m1999\u001b[39;49m\u001b[43m,\u001b[49m\u001b[38;5;241;43m24\u001b[39;49m\u001b[43m,\u001b[49m\u001b[38;5;241;43m2\u001b[39;49m\u001b[43m)\u001b[49m\n\u001b[1;32m      2\u001b[0m my_dob\n",
      "\u001b[0;31mValueError\u001b[0m: month must be in 1..12"
     ]
    }
   ],
   "source": [
    "my_dob = date(1999,2,2)\n",
    "my_dob"
   ]
  },
  {
   "cell_type": "markdown",
   "metadata": {
    "id": "Dz-aFuxDN9Zl"
   },
   "source": [
    "> Q. What day of the week was your day of birth?"
   ]
  },
  {
   "cell_type": "code",
   "execution_count": 28,
   "metadata": {
    "colab": {
     "base_uri": "https://localhost:8080/"
    },
    "executionInfo": {
     "elapsed": 379,
     "status": "ok",
     "timestamp": 1627041487197,
     "user": {
      "displayName": "Yuno Clover",
      "photoUrl": "",
      "userId": "14793961318254159012"
     },
     "user_tz": -330
    },
    "id": "sne1pWldNyyI",
    "outputId": "e04c7f99-cb6b-4615-fa8e-a7ccce60b16d"
   },
   "outputs": [
    {
     "data": {
      "text/plain": [
       "2"
      ]
     },
     "execution_count": 28,
     "metadata": {
      "tags": []
     },
     "output_type": "execute_result"
    }
   ],
   "source": [
    "my_dob.weekday()"
   ]
  },
  {
   "cell_type": "markdown",
   "metadata": {
    "id": "ElayoapJOODf"
   },
   "source": [
    "> Q. When will you be (or when were you) 10,000 days old?"
   ]
  },
  {
   "cell_type": "code",
   "execution_count": 29,
   "metadata": {
    "colab": {
     "base_uri": "https://localhost:8080/"
    },
    "executionInfo": {
     "elapsed": 379,
     "status": "ok",
     "timestamp": 1627041490319,
     "user": {
      "displayName": "Yuno Clover",
      "photoUrl": "",
      "userId": "14793961318254159012"
     },
     "user_tz": -330
    },
    "id": "HzFn9wlsOR_v",
    "outputId": "bb5ca2b1-3da6-4852-a46b-db5ff5c7ad69"
   },
   "outputs": [
    {
     "data": {
      "text/plain": [
       "datetime.date(2026, 1, 25)"
      ]
     },
     "execution_count": 29,
     "metadata": {
      "tags": []
     },
     "output_type": "execute_result"
    }
   ],
   "source": [
    "from datetime import timedelta\n",
    "day10000 = my_dob + timedelta(days=10000)\n",
    "day10000"
   ]
  },
  {
   "cell_type": "code",
   "execution_count": null,
   "metadata": {
    "id": "Hk50u6fUObdH"
   },
   "outputs": [],
   "source": []
  }
 ],
 "metadata": {
  "colab": {
   "authorship_tag": "ABX9TyPLIbtwncRvSb+gl4fLV2MA",
   "collapsed_sections": [],
   "name": "Python Basic 21.ipynb",
   "provenance": []
  },
  "kernelspec": {
   "display_name": "Python 3 (ipykernel)",
   "language": "python",
   "name": "python3"
  },
  "language_info": {
   "codemirror_mode": {
    "name": "ipython",
    "version": 3
   },
   "file_extension": ".py",
   "mimetype": "text/x-python",
   "name": "python",
   "nbconvert_exporter": "python",
   "pygments_lexer": "ipython3",
   "version": "3.10.6"
  }
 },
 "nbformat": 4,
 "nbformat_minor": 4
}
